{
 "cells": [
  {
   "cell_type": "markdown",
   "id": "843627af",
   "metadata": {},
   "source": [
    "# Balanced Creditcard data\n"
   ]
  },
  {
   "cell_type": "code",
   "execution_count": 40,
   "id": "05454160",
   "metadata": {},
   "outputs": [],
   "source": [
    "import pandas as pd\n",
    "import numpy as np\n",
    "import matplotlib.pyplot as plt\n",
    "import seaborn as sns\n",
    "import keras\n",
    "from sklearn.preprocessing import StandardScaler, RobustScaler\n",
    "from sklearn.model_selection import train_test_split\n",
    "from sklearn.metrics import classification_report\n",
    "from sklearn.tree import DecisionTreeClassifier\n",
    "from sklearn.ensemble import RandomForestClassifier"
   ]
  },
  {
   "cell_type": "code",
   "execution_count": 27,
   "id": "94d9bccc",
   "metadata": {},
   "outputs": [],
   "source": [
    "data = pd.read_csv(\"creditcard.csv\")"
   ]
  },
  {
   "cell_type": "markdown",
   "id": "32b4e6fd",
   "metadata": {},
   "source": [
    "# Creditcard visualization\n",
    "\n",
    "As we will shortly see, from data.head() y data.shape we can distinguish  among the different columns:\n",
    "Time == Time between transaction.\n",
    "V1-V28 == PCE dimensionality reduction to protect both identity and localization of clients.\n",
    "Amount ==  Total amount of money.\n",
    "\n",
    "\n",
    "# Class: IMPORTANT. \n",
    "The \"Class\" column contains 0's {No Fraud} and 1's {Fraud}. Through value_counts we can see how many 1's and 0's actually exist."
   ]
  },
  {
   "cell_type": "code",
   "execution_count": 41,
   "id": "f433c678",
   "metadata": {},
   "outputs": [
    {
     "data": {
      "text/plain": [
       "(284807, 31)"
      ]
     },
     "execution_count": 41,
     "metadata": {},
     "output_type": "execute_result"
    }
   ],
   "source": [
    "print(data.head())\n",
    "print(data.shape)"
   ]
  },
  {
   "cell_type": "markdown",
   "id": "25d4d337",
   "metadata": {},
   "source": [
    "# Mistakes in the data?\n",
    "We can also see if there is a bug in the .csv file using data.isnull.sum ()"
   ]
  },
  {
   "cell_type": "code",
   "execution_count": 42,
   "id": "81ad82e6",
   "metadata": {},
   "outputs": [
    {
     "data": {
      "text/plain": [
       "amount    0\n",
       "time      0\n",
       "V1        0\n",
       "V2        0\n",
       "V3        0\n",
       "V4        0\n",
       "V5        0\n",
       "V6        0\n",
       "V7        0\n",
       "V8        0\n",
       "V9        0\n",
       "V10       0\n",
       "V11       0\n",
       "V12       0\n",
       "V13       0\n",
       "V14       0\n",
       "V15       0\n",
       "V16       0\n",
       "V17       0\n",
       "V18       0\n",
       "V19       0\n",
       "V20       0\n",
       "V21       0\n",
       "V22       0\n",
       "V23       0\n",
       "V24       0\n",
       "V25       0\n",
       "V26       0\n",
       "V27       0\n",
       "V28       0\n",
       "Class     0\n",
       "dtype: int64"
      ]
     },
     "execution_count": 42,
     "metadata": {},
     "output_type": "execute_result"
    }
   ],
   "source": [
    "data.isnull().sum()"
   ]
  },
  {
   "cell_type": "markdown",
   "id": "c4a7f12d",
   "metadata": {},
   "source": [
    "# Highly unbalanced dataset\n",
    "We see that, in effect, the number of 0's and 1's is heavily unbalanced."
   ]
  },
  {
   "cell_type": "code",
   "execution_count": 43,
   "id": "33e311a3",
   "metadata": {},
   "outputs": [
    {
     "name": "stdout",
     "output_type": "stream",
     "text": [
      "No Frauds 99.83 % of the dataset\n",
      "Frauds 0.17 % of the dataset\n",
      "Fraudulent Transactions 492\n"
     ]
    }
   ],
   "source": [
    "print('No Frauds', round(data['Class'].value_counts()[0]/len(data) * 100, 2), '% of the dataset')\n",
    "print('Frauds', round(data['Class'].value_counts()[1]/len(data) * 100, 2), '% of the dataset')\n",
    "print('Fraudulent Transactions', data['Class'].value_counts()[1])"
   ]
  },
  {
   "cell_type": "code",
   "execution_count": 44,
   "id": "c0c38ba0",
   "metadata": {},
   "outputs": [
    {
     "data": {
      "text/plain": [
       "<AxesSubplot:xlabel='Class', ylabel='count'>"
      ]
     },
     "execution_count": 44,
     "metadata": {},
     "output_type": "execute_result"
    },
    {
     "data": {
      "image/png": "[encoded data removed]",
      "text/plain": [
       "<Figure size 432x288 with 1 Axes>"
      ]
     },
     "metadata": {
      "needs_background": "light"
     },
     "output_type": "display_data"
    }
   ],
   "source": [
    "colors = [\"#0101DF\", \"#DF0101\"]\n",
    "sns.countplot('Class', data=data, palette=colors)"
   ]
  },
  {
   "cell_type": "markdown",
   "id": "b00ac632",
   "metadata": {},
   "source": [
    "# Renormalizing Time and Amount\n",
    "We have seen in the previous notebook (unbalanced) that this is the cause of an important error when counting 1's (Fraud). To do this, we have to balance this result so that the algorithm does not make a brutal mistake in counting fraud. Similarly, we want to rescale the \"Time\" and \"Amount\" columns. This is what we do next."
   ]
  },
  {
   "cell_type": "code",
   "execution_count": 32,
   "id": "f061d18b",
   "metadata": {},
   "outputs": [],
   "source": [
    "rob_scaler = RobustScaler()\n",
    "data['scaled_amount'] = rob_scaler.fit_transform(data['Amount'].values.reshape(-1,1))\n",
    "data['scaled_time'] = rob_scaler.fit_transform(data['Time'].values.reshape(-1,1))\n",
    "data.drop(['Time','Amount'], axis=1, inplace=True)\n",
    "amount = data['scaled_amount']\n",
    "time = data['scaled_time']\n",
    "data.drop(['scaled_amount', 'scaled_time'], axis=1, inplace=True)\n",
    "data.insert(0, 'amount', amount)\n",
    "data.insert(1, 'time', time)"
   ]
  },
  {
   "cell_type": "code",
   "execution_count": 33,
   "id": "cf39556b",
   "metadata": {},
   "outputs": [
    {
     "data": {
      "text/html": [
       "<div>\n",
       "<style scoped>\n",
       "    .dataframe tbody tr th:only-of-type {\n",
       "        vertical-align: middle;\n",
       "    }\n",
       "\n",
       "    .dataframe tbody tr th {\n",
       "        vertical-align: top;\n",
       "    }\n",
       "\n",
       "    .dataframe thead th {\n",
       "        text-align: right;\n",
       "    }\n",
       "</style>\n",
       "<table border=\"1\" class=\"dataframe\">\n",
       "  <thead>\n",
       "    <tr style=\"text-align: right;\">\n",
       "      <th></th>\n",
       "      <th>amount</th>\n",
       "      <th>time</th>\n",
       "      <th>V1</th>\n",
       "      <th>V2</th>\n",
       "      <th>V3</th>\n",
       "      <th>V4</th>\n",
       "      <th>V5</th>\n",
       "      <th>V6</th>\n",
       "      <th>V7</th>\n",
       "      <th>V8</th>\n",
       "      <th>...</th>\n",
       "      <th>V20</th>\n",
       "      <th>V21</th>\n",
       "      <th>V22</th>\n",
       "      <th>V23</th>\n",
       "      <th>V24</th>\n",
       "      <th>V25</th>\n",
       "      <th>V26</th>\n",
       "      <th>V27</th>\n",
       "      <th>V28</th>\n",
       "      <th>Class</th>\n",
       "    </tr>\n",
       "  </thead>\n",
       "  <tbody>\n",
       "    <tr>\n",
       "      <th>0</th>\n",
       "      <td>1.783274</td>\n",
       "      <td>-0.994983</td>\n",
       "      <td>-1.359807</td>\n",
       "      <td>-0.072781</td>\n",
       "      <td>2.536347</td>\n",
       "      <td>1.378155</td>\n",
       "      <td>-0.338321</td>\n",
       "      <td>0.462388</td>\n",
       "      <td>0.239599</td>\n",
       "      <td>0.098698</td>\n",
       "      <td>...</td>\n",
       "      <td>0.251412</td>\n",
       "      <td>-0.018307</td>\n",
       "      <td>0.277838</td>\n",
       "      <td>-0.110474</td>\n",
       "      <td>0.066928</td>\n",
       "      <td>0.128539</td>\n",
       "      <td>-0.189115</td>\n",
       "      <td>0.133558</td>\n",
       "      <td>-0.021053</td>\n",
       "      <td>0</td>\n",
       "    </tr>\n",
       "    <tr>\n",
       "      <th>1</th>\n",
       "      <td>-0.269825</td>\n",
       "      <td>-0.994983</td>\n",
       "      <td>1.191857</td>\n",
       "      <td>0.266151</td>\n",
       "      <td>0.166480</td>\n",
       "      <td>0.448154</td>\n",
       "      <td>0.060018</td>\n",
       "      <td>-0.082361</td>\n",
       "      <td>-0.078803</td>\n",
       "      <td>0.085102</td>\n",
       "      <td>...</td>\n",
       "      <td>-0.069083</td>\n",
       "      <td>-0.225775</td>\n",
       "      <td>-0.638672</td>\n",
       "      <td>0.101288</td>\n",
       "      <td>-0.339846</td>\n",
       "      <td>0.167170</td>\n",
       "      <td>0.125895</td>\n",
       "      <td>-0.008983</td>\n",
       "      <td>0.014724</td>\n",
       "      <td>0</td>\n",
       "    </tr>\n",
       "    <tr>\n",
       "      <th>2</th>\n",
       "      <td>4.983721</td>\n",
       "      <td>-0.994972</td>\n",
       "      <td>-1.358354</td>\n",
       "      <td>-1.340163</td>\n",
       "      <td>1.773209</td>\n",
       "      <td>0.379780</td>\n",
       "      <td>-0.503198</td>\n",
       "      <td>1.800499</td>\n",
       "      <td>0.791461</td>\n",
       "      <td>0.247676</td>\n",
       "      <td>...</td>\n",
       "      <td>0.524980</td>\n",
       "      <td>0.247998</td>\n",
       "      <td>0.771679</td>\n",
       "      <td>0.909412</td>\n",
       "      <td>-0.689281</td>\n",
       "      <td>-0.327642</td>\n",
       "      <td>-0.139097</td>\n",
       "      <td>-0.055353</td>\n",
       "      <td>-0.059752</td>\n",
       "      <td>0</td>\n",
       "    </tr>\n",
       "    <tr>\n",
       "      <th>3</th>\n",
       "      <td>1.418291</td>\n",
       "      <td>-0.994972</td>\n",
       "      <td>-0.966272</td>\n",
       "      <td>-0.185226</td>\n",
       "      <td>1.792993</td>\n",
       "      <td>-0.863291</td>\n",
       "      <td>-0.010309</td>\n",
       "      <td>1.247203</td>\n",
       "      <td>0.237609</td>\n",
       "      <td>0.377436</td>\n",
       "      <td>...</td>\n",
       "      <td>-0.208038</td>\n",
       "      <td>-0.108300</td>\n",
       "      <td>0.005274</td>\n",
       "      <td>-0.190321</td>\n",
       "      <td>-1.175575</td>\n",
       "      <td>0.647376</td>\n",
       "      <td>-0.221929</td>\n",
       "      <td>0.062723</td>\n",
       "      <td>0.061458</td>\n",
       "      <td>0</td>\n",
       "    </tr>\n",
       "    <tr>\n",
       "      <th>4</th>\n",
       "      <td>0.670579</td>\n",
       "      <td>-0.994960</td>\n",
       "      <td>-1.158233</td>\n",
       "      <td>0.877737</td>\n",
       "      <td>1.548718</td>\n",
       "      <td>0.403034</td>\n",
       "      <td>-0.407193</td>\n",
       "      <td>0.095921</td>\n",
       "      <td>0.592941</td>\n",
       "      <td>-0.270533</td>\n",
       "      <td>...</td>\n",
       "      <td>0.408542</td>\n",
       "      <td>-0.009431</td>\n",
       "      <td>0.798278</td>\n",
       "      <td>-0.137458</td>\n",
       "      <td>0.141267</td>\n",
       "      <td>-0.206010</td>\n",
       "      <td>0.502292</td>\n",
       "      <td>0.219422</td>\n",
       "      <td>0.215153</td>\n",
       "      <td>0</td>\n",
       "    </tr>\n",
       "  </tbody>\n",
       "</table>\n",
       "<p>5 rows × 31 columns</p>\n",
       "</div>"
      ],
      "text/plain": [
       "     amount      time        V1        V2        V3        V4        V5  \\\n",
       "0  1.783274 -0.994983 -1.359807 -0.072781  2.536347  1.378155 -0.338321   \n",
       "1 -0.269825 -0.994983  1.191857  0.266151  0.166480  0.448154  0.060018   \n",
       "2  4.983721 -0.994972 -1.358354 -1.340163  1.773209  0.379780 -0.503198   \n",
       "3  1.418291 -0.994972 -0.966272 -0.185226  1.792993 -0.863291 -0.010309   \n",
       "4  0.670579 -0.994960 -1.158233  0.877737  1.548718  0.403034 -0.407193   \n",
       "\n",
       "         V6        V7        V8  ...       V20       V21       V22       V23  \\\n",
       "0  0.462388  0.239599  0.098698  ...  0.251412 -0.018307  0.277838 -0.110474   \n",
       "1 -0.082361 -0.078803  0.085102  ... -0.069083 -0.225775 -0.638672  0.101288   \n",
       "2  1.800499  0.791461  0.247676  ...  0.524980  0.247998  0.771679  0.909412   \n",
       "3  1.247203  0.237609  0.377436  ... -0.208038 -0.108300  0.005274 -0.190321   \n",
       "4  0.095921  0.592941 -0.270533  ...  0.408542 -0.009431  0.798278 -0.137458   \n",
       "\n",
       "        V24       V25       V26       V27       V28  Class  \n",
       "0  0.066928  0.128539 -0.189115  0.133558 -0.021053      0  \n",
       "1 -0.339846  0.167170  0.125895 -0.008983  0.014724      0  \n",
       "2 -0.689281 -0.327642 -0.139097 -0.055353 -0.059752      0  \n",
       "3 -1.175575  0.647376 -0.221929  0.062723  0.061458      0  \n",
       "4  0.141267 -0.206010  0.502292  0.219422  0.215153      0  \n",
       "\n",
       "[5 rows x 31 columns]"
      ]
     },
     "execution_count": 33,
     "metadata": {},
     "output_type": "execute_result"
    }
   ],
   "source": [
    "data.head()"
   ]
  },
  {
   "cell_type": "markdown",
   "id": "759fdd4d",
   "metadata": {},
   "source": [
    "# Balanced data\n",
    "Next we rescale the number of Valid transactions == nfraud_data to be the same as the number of fraud == fraud_data. We are then taking care of the above problem, where highly unbalanced data led to a tremendous error in the number of frauds counted. Not so in the total percentage of success, which was high because the number of 0's was practically the number of transactions."
   ]
  },
  {
   "cell_type": "code",
   "execution_count": 45,
   "id": "883c3f8c",
   "metadata": {},
   "outputs": [
    {
     "data": {
      "text/html": [
       "<div>\n",
       "<style scoped>\n",
       "    .dataframe tbody tr th:only-of-type {\n",
       "        vertical-align: middle;\n",
       "    }\n",
       "\n",
       "    .dataframe tbody tr th {\n",
       "        vertical-align: top;\n",
       "    }\n",
       "\n",
       "    .dataframe thead th {\n",
       "        text-align: right;\n",
       "    }\n",
       "</style>\n",
       "<table border=\"1\" class=\"dataframe\">\n",
       "  <thead>\n",
       "    <tr style=\"text-align: right;\">\n",
       "      <th></th>\n",
       "      <th>amount</th>\n",
       "      <th>time</th>\n",
       "      <th>V1</th>\n",
       "      <th>V2</th>\n",
       "      <th>V3</th>\n",
       "      <th>V4</th>\n",
       "      <th>V5</th>\n",
       "      <th>V6</th>\n",
       "      <th>V7</th>\n",
       "      <th>V8</th>\n",
       "      <th>...</th>\n",
       "      <th>V20</th>\n",
       "      <th>V21</th>\n",
       "      <th>V22</th>\n",
       "      <th>V23</th>\n",
       "      <th>V24</th>\n",
       "      <th>V25</th>\n",
       "      <th>V26</th>\n",
       "      <th>V27</th>\n",
       "      <th>V28</th>\n",
       "      <th>Class</th>\n",
       "    </tr>\n",
       "  </thead>\n",
       "  <tbody>\n",
       "    <tr>\n",
       "      <th>90236</th>\n",
       "      <td>-0.279746</td>\n",
       "      <td>-0.255654</td>\n",
       "      <td>1.294851</td>\n",
       "      <td>0.257285</td>\n",
       "      <td>-0.163464</td>\n",
       "      <td>0.307613</td>\n",
       "      <td>0.231716</td>\n",
       "      <td>-0.093053</td>\n",
       "      <td>-0.053693</td>\n",
       "      <td>0.027824</td>\n",
       "      <td>...</td>\n",
       "      <td>-0.045153</td>\n",
       "      <td>-0.314763</td>\n",
       "      <td>-0.948182</td>\n",
       "      <td>-0.025730</td>\n",
       "      <td>-0.896306</td>\n",
       "      <td>0.334381</td>\n",
       "      <td>0.150622</td>\n",
       "      <td>-0.029703</td>\n",
       "      <td>0.008273</td>\n",
       "      <td>0</td>\n",
       "    </tr>\n",
       "    <tr>\n",
       "      <th>27362</th>\n",
       "      <td>-0.286173</td>\n",
       "      <td>-0.589422</td>\n",
       "      <td>1.081234</td>\n",
       "      <td>0.416414</td>\n",
       "      <td>0.862919</td>\n",
       "      <td>2.520863</td>\n",
       "      <td>-0.005021</td>\n",
       "      <td>0.563341</td>\n",
       "      <td>-0.123372</td>\n",
       "      <td>0.223122</td>\n",
       "      <td>...</td>\n",
       "      <td>-0.165249</td>\n",
       "      <td>-0.159387</td>\n",
       "      <td>-0.305154</td>\n",
       "      <td>0.053620</td>\n",
       "      <td>0.011761</td>\n",
       "      <td>0.375146</td>\n",
       "      <td>-0.106299</td>\n",
       "      <td>0.021008</td>\n",
       "      <td>0.010559</td>\n",
       "      <td>1</td>\n",
       "    </tr>\n",
       "    <tr>\n",
       "      <th>124832</th>\n",
       "      <td>5.758401</td>\n",
       "      <td>-0.085222</td>\n",
       "      <td>0.604839</td>\n",
       "      <td>-1.886371</td>\n",
       "      <td>-0.554519</td>\n",
       "      <td>-0.174555</td>\n",
       "      <td>-1.244669</td>\n",
       "      <td>-0.729373</td>\n",
       "      <td>0.263710</td>\n",
       "      <td>-0.323298</td>\n",
       "      <td>...</td>\n",
       "      <td>0.313250</td>\n",
       "      <td>-0.226300</td>\n",
       "      <td>-1.065347</td>\n",
       "      <td>-0.412884</td>\n",
       "      <td>0.077673</td>\n",
       "      <td>0.288845</td>\n",
       "      <td>1.071799</td>\n",
       "      <td>-0.156956</td>\n",
       "      <td>0.066526</td>\n",
       "      <td>0</td>\n",
       "    </tr>\n",
       "    <tr>\n",
       "      <th>274475</th>\n",
       "      <td>0.250122</td>\n",
       "      <td>0.955556</td>\n",
       "      <td>-0.956390</td>\n",
       "      <td>2.361594</td>\n",
       "      <td>-3.171195</td>\n",
       "      <td>1.970759</td>\n",
       "      <td>0.474761</td>\n",
       "      <td>-1.902598</td>\n",
       "      <td>-0.055178</td>\n",
       "      <td>0.277831</td>\n",
       "      <td>...</td>\n",
       "      <td>0.190877</td>\n",
       "      <td>0.473211</td>\n",
       "      <td>0.719400</td>\n",
       "      <td>0.122458</td>\n",
       "      <td>-0.255650</td>\n",
       "      <td>-0.619259</td>\n",
       "      <td>-0.484280</td>\n",
       "      <td>0.683535</td>\n",
       "      <td>0.443299</td>\n",
       "      <td>1</td>\n",
       "    </tr>\n",
       "    <tr>\n",
       "      <th>144754</th>\n",
       "      <td>4.216726</td>\n",
       "      <td>0.019784</td>\n",
       "      <td>-0.670238</td>\n",
       "      <td>0.945206</td>\n",
       "      <td>0.610051</td>\n",
       "      <td>2.640065</td>\n",
       "      <td>-2.707775</td>\n",
       "      <td>1.952611</td>\n",
       "      <td>-1.624608</td>\n",
       "      <td>-5.229908</td>\n",
       "      <td>...</td>\n",
       "      <td>1.474929</td>\n",
       "      <td>-2.504450</td>\n",
       "      <td>1.436472</td>\n",
       "      <td>0.351542</td>\n",
       "      <td>0.648467</td>\n",
       "      <td>0.579681</td>\n",
       "      <td>0.075738</td>\n",
       "      <td>0.346717</td>\n",
       "      <td>0.282209</td>\n",
       "      <td>1</td>\n",
       "    </tr>\n",
       "  </tbody>\n",
       "</table>\n",
       "<p>5 rows × 31 columns</p>\n",
       "</div>"
      ],
      "text/plain": [
       "          amount      time        V1        V2        V3        V4        V5  \\\n",
       "90236  -0.279746 -0.255654  1.294851  0.257285 -0.163464  0.307613  0.231716   \n",
       "27362  -0.286173 -0.589422  1.081234  0.416414  0.862919  2.520863 -0.005021   \n",
       "124832  5.758401 -0.085222  0.604839 -1.886371 -0.554519 -0.174555 -1.244669   \n",
       "274475  0.250122  0.955556 -0.956390  2.361594 -3.171195  1.970759  0.474761   \n",
       "144754  4.216726  0.019784 -0.670238  0.945206  0.610051  2.640065 -2.707775   \n",
       "\n",
       "              V6        V7        V8  ...       V20       V21       V22  \\\n",
       "90236  -0.093053 -0.053693  0.027824  ... -0.045153 -0.314763 -0.948182   \n",
       "27362   0.563341 -0.123372  0.223122  ... -0.165249 -0.159387 -0.305154   \n",
       "124832 -0.729373  0.263710 -0.323298  ...  0.313250 -0.226300 -1.065347   \n",
       "274475 -1.902598 -0.055178  0.277831  ...  0.190877  0.473211  0.719400   \n",
       "144754  1.952611 -1.624608 -5.229908  ...  1.474929 -2.504450  1.436472   \n",
       "\n",
       "             V23       V24       V25       V26       V27       V28  Class  \n",
       "90236  -0.025730 -0.896306  0.334381  0.150622 -0.029703  0.008273      0  \n",
       "27362   0.053620  0.011761  0.375146 -0.106299  0.021008  0.010559      1  \n",
       "124832 -0.412884  0.077673  0.288845  1.071799 -0.156956  0.066526      0  \n",
       "274475  0.122458 -0.255650 -0.619259 -0.484280  0.683535  0.443299      1  \n",
       "144754  0.351542  0.648467  0.579681  0.075738  0.346717  0.282209      1  \n",
       "\n",
       "[5 rows x 31 columns]"
      ]
     },
     "execution_count": 45,
     "metadata": {},
     "output_type": "execute_result"
    }
   ],
   "source": [
    "data = data.sample(frac=1)\n",
    "fraud_data = data.loc[data['Class']==1]\n",
    "nfraud_data = data.loc[data['Class']==0][:data['Class'].value_counts()[1]]\n",
    "normal_distributed_df = pd.concat([fraud_data, nfraud_data])\n",
    "ndata = normal_distributed_df.sample(frac=1, random_state=42)\n",
    "ndata.head()"
   ]
  },
  {
   "cell_type": "code",
   "execution_count": 46,
   "id": "f149b0ea",
   "metadata": {},
   "outputs": [
    {
     "name": "stdout",
     "output_type": "stream",
     "text": [
      "Fraudulent Transactions 492\n",
      "Non-Fraudulent Transactions 492\n"
     ]
    },
    {
     "data": {
      "text/plain": [
       "<AxesSubplot:xlabel='Class', ylabel='count'>"
      ]
     },
     "execution_count": 46,
     "metadata": {},
     "output_type": "execute_result"
    },
    {
     "data": {
      "image/png": "[encoded data removed]",
      "text/plain": [
       "<Figure size 432x288 with 1 Axes>"
      ]
     },
     "metadata": {
      "needs_background": "light"
     },
     "output_type": "display_data"
    }
   ],
   "source": [
    "print('Fraudulent Transactions', ndata['Class'].value_counts()[1])\n",
    "print('Non-Fraudulent Transactions', ndata['Class'].value_counts()[0])\n",
    "colors = [\"#0101DF\", \"#DF0101\"]\n",
    "sns.countplot('Class', data=ndata, palette=colors)"
   ]
  },
  {
   "cell_type": "markdown",
   "id": "5306c420",
   "metadata": {},
   "source": [
    "# Splitting\n",
    "Next we will filter the values.\n",
    "To do this, we will create a variable X that contains all the data except the \"Class\" column and we will create another variable that contains ONLY the data of the \"Class\" column. In this way we can know how good the algorithm used is. Essentially we will operate on X and then we will compare with the values ​​of Y, which is the pure reality."
   ]
  },
  {
   "cell_type": "code",
   "execution_count": 51,
   "id": "8ed94cbd",
   "metadata": {},
   "outputs": [],
   "source": [
    "dataframe = pd.DataFrame(data = ndata)\n",
    "X = dataframe.iloc[:, ndata.columns != 'Class']\n",
    "Y = dataframe.iloc[:, ndata.columns == 'Class']"
   ]
  },
  {
   "cell_type": "markdown",
   "id": "01a84168",
   "metadata": {},
   "source": [
    "# Transform X et Y en random train arrays.\n",
    "Next we will run train_test_split with the previously calculated X and Y values ​​in order to obtain random train and test subsets."
   ]
  },
  {
   "cell_type": "code",
   "execution_count": 52,
   "id": "aead3d57",
   "metadata": {},
   "outputs": [],
   "source": [
    "X_train, X_test,y_train,y_test = train_test_split(X, Y, test_size=0.25, random_state=1)\n",
    "X_train = np.array(X_train)\n",
    "X_test = np.array(X_test)\n",
    "y_train = np.array(y_train)\n",
    "y_test = np.array(y_test)"
   ]
  },
  {
   "cell_type": "markdown",
   "id": "dc136308",
   "metadata": {},
   "source": [
    "# DecisionTreeClassifier"
   ]
  },
  {
   "cell_type": "code",
   "execution_count": 53,
   "id": "b07c80d9",
   "metadata": {},
   "outputs": [],
   "source": [
    "classifier = DecisionTreeClassifier(criterion = 'gini', random_state= 0 )\n",
    "classifier.fit(X_train, y_train.ravel())\n",
    "y_pre = classifier.predict(X_test)"
   ]
  },
  {
   "cell_type": "code",
   "execution_count": 54,
   "id": "f9a577e2",
   "metadata": {},
   "outputs": [
    {
     "name": "stdout",
     "output_type": "stream",
     "text": [
      "DecisionTreeClassifier gives an overall precision of\n",
      "0.8983739837398373\n",
      "              precision    recall  f1-score   support\n",
      "\n",
      "           0       0.91      0.88      0.90       121\n",
      "           1       0.89      0.91      0.90       125\n",
      "\n",
      "    accuracy                           0.90       246\n",
      "   macro avg       0.90      0.90      0.90       246\n",
      "weighted avg       0.90      0.90      0.90       246\n",
      "\n"
     ]
    }
   ],
   "source": [
    "print(\"DecisionTreeClassifier gives an overall precision of\")\n",
    "print(classifier.score(X_test,y_test))\n",
    "print(classification_report(y_test,y_pre))"
   ]
  },
  {
   "cell_type": "markdown",
   "id": "11150592",
   "metadata": {},
   "source": [
    "# RandomForestClassifier"
   ]
  },
  {
   "cell_type": "code",
   "execution_count": 55,
   "id": "8e693422",
   "metadata": {},
   "outputs": [
    {
     "name": "stdout",
     "output_type": "stream",
     "text": [
      "RandomForestClassifier\n",
      "0.9512195121951219\n",
      "              precision    recall  f1-score   support\n",
      "\n",
      "           0       0.92      0.98      0.95       121\n",
      "           1       0.98      0.92      0.95       125\n",
      "\n",
      "    accuracy                           0.95       246\n",
      "   macro avg       0.95      0.95      0.95       246\n",
      "weighted avg       0.95      0.95      0.95       246\n",
      "\n"
     ]
    }
   ],
   "source": [
    "clf = RandomForestClassifier(n_estimators= 50, criterion= 'entropy', random_state=0)\n",
    "clf.fit(X_train, y_train.ravel())\n",
    "y_pred = clf.predict(X_test)\n",
    "print(\"RandomForestClassifier\")\n",
    "print(clf.score(X_test,y_test))\n",
    "print(classification_report(y_test,y_pred))"
   ]
  },
  {
   "cell_type": "markdown",
   "id": "5ddd36f0",
   "metadata": {},
   "source": [
    "# Conclusions-Conclusiones\n",
    "\n",
    "We have used two algorithms for classic Machine learning: Decision Tree Classifier and Random Forest Classifier to obtain a LOWER global precision (90%) than in the unbalanced case (99%). However, this has a trick (and a heavy one) because the precision when counting 1's in this case has been 90% (balanced data) while in the unbalanced case it barely reaches 30% in the best of cases (Isolated Forest).\n",
    "As a conclusion for these classical machine learning models, it is necessary to alter the initial data if it is highly unbalanced since the models need balanced data to recognize differences and similarities. Also, since we deal with less amount of data compared to the unbalanced case (10% of creditcard.csv), we get the results quite faster.\n",
    "\n",
    "\n",
    "Hemos usado dos algoritmos para Machine learning clásico: Decision Tree Classifier y Random Forest Classifier para obtener una precisión global MENOR (90%) que en el caso unbalanced (99%). Sin embargo, esto tiene truco (y mucho) debido a que la precisión a la hora de contar 1's en este caso ha sido del 90% (balanced data)  mientras que en el caso unbalanced apenas llegaba en el mejor de los casos al 30%\n",
    "Como conclusión para estos modelos de classical machine learning, es necesario alterar los datos iniciales si son highly unbalanced ya que los modelos necesitan balanced data para reconocer diferencias y similitudes entre los datos. Además, como tratamos con menos cantidad de datos con respecto al caso unbalanced (10% de creditcard.csv), obtenemos los resultados sin una demora computacional. "
   ]
  },
  {
   "cell_type": "code",
   "execution_count": null,
   "id": "1b6051da",
   "metadata": {},
   "outputs": [],
   "source": []
  },
  {
   "cell_type": "code",
   "execution_count": null,
   "id": "2a350b74",
   "metadata": {},
   "outputs": [],
   "source": []
  }
 ],
 "metadata": {
  "kernelspec": {
   "display_name": "Python 3",
   "language": "python",
   "name": "python3"
  },
  "language_info": {
   "codemirror_mode": {
    "name": "ipython",
    "version": 3
   },
   "file_extension": ".py",
   "mimetype": "text/x-python",
   "name": "python",
   "nbconvert_exporter": "python",
   "pygments_lexer": "ipython3",
   "version": "3.8.8"
  }
 },
 "nbformat": 4,
 "nbformat_minor": 5
}
