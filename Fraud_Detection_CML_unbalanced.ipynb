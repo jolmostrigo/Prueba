{
 "cells": [
  {
   "cell_type": "markdown",
   "id": "eeef3fb7",
   "metadata": {},
   "source": [
    "# Unbalanced Creditcard data"
   ]
  },
  {
   "cell_type": "code",
   "execution_count": 20,
   "id": "e213beb9",
   "metadata": {},
   "outputs": [
    {
     "name": "stdout",
     "output_type": "stream",
     "text": [
      "Python: 3.8.8 (default, Apr 13 2021, 19:58:26) \n",
      "[GCC 7.3.0]\n",
      "Numpy: 1.19.5\n",
      "Pandas: 1.2.3\n",
      "Matplotlib: 3.3.4\n",
      "Seaborn: 0.10.0\n",
      "Scipy: 1.6.1\n",
      "Sklearn: 0.24.1\n"
     ]
    }
   ],
   "source": [
    "\n",
    "import sys\n",
    "import numpy\n",
    "import pandas\n",
    "import matplotlib\n",
    "import matplotlib.pyplot as plt\n",
    "import seaborn\n",
    "import scipy\n",
    "import sklearn\n",
    "print ('Python: {}'.format(sys.version))\n",
    "print ('Numpy: {}'.format(numpy.__version__))\n",
    "print ('Pandas: {}'.format(pandas.__version__))\n",
    "print ('Matplotlib: {}'.format(matplotlib.__version__))\n",
    "print ('Seaborn: {}'.format(seaborn.__version__))\n",
    "print ('Scipy: {}'.format(scipy.__version__))\n",
    "print ('Sklearn: {}'.format(sklearn.__version__))"
   ]
  },
  {
   "cell_type": "code",
   "execution_count": 21,
   "id": "7e33e8cc",
   "metadata": {},
   "outputs": [],
   "source": [
    "import sys\n",
    "import numpy as np\n",
    "import pandas as pd\n",
    "import seaborn as sns\n",
    "import scipy\n",
    "import sklearn"
   ]
  },
  {
   "cell_type": "code",
   "execution_count": 22,
   "id": "7362081d",
   "metadata": {},
   "outputs": [],
   "source": [
    "data = pd.read_csv(\"creditcard.csv\")"
   ]
  },
  {
   "cell_type": "markdown",
   "id": "38331c3a",
   "metadata": {},
   "source": [
    "# Creditcard visualization\n",
    "\n",
    "As we will shortly see, from data.head() y data.shape we can distinguish  among the different columns:\n",
    "Time == Time between transaction.\n",
    "V1-V28 == PCE dimensionality reduction to protect both identity and localization of clients.\n",
    "Amount ==  Total amount of money.\n",
    "\n",
    "\n",
    "# Class: IMPORTANT. \n",
    "The \"Class\" column contains 0's {No Fraud} and 1's {Fraud}. Through value_counts we can see how many 1's and 0's actually exist."
   ]
  },
  {
   "cell_type": "code",
   "execution_count": 23,
   "id": "6d98fe01",
   "metadata": {},
   "outputs": [
    {
     "data": {
      "text/html": [
       "<div>\n",
       "<style scoped>\n",
       "    .dataframe tbody tr th:only-of-type {\n",
       "        vertical-align: middle;\n",
       "    }\n",
       "\n",
       "    .dataframe tbody tr th {\n",
       "        vertical-align: top;\n",
       "    }\n",
       "\n",
       "    .dataframe thead th {\n",
       "        text-align: right;\n",
       "    }\n",
       "</style>\n",
       "<table border=\"1\" class=\"dataframe\">\n",
       "  <thead>\n",
       "    <tr style=\"text-align: right;\">\n",
       "      <th></th>\n",
       "      <th>Time</th>\n",
       "      <th>V1</th>\n",
       "      <th>V2</th>\n",
       "      <th>V3</th>\n",
       "      <th>V4</th>\n",
       "      <th>V5</th>\n",
       "      <th>V6</th>\n",
       "      <th>V7</th>\n",
       "      <th>V8</th>\n",
       "      <th>V9</th>\n",
       "      <th>...</th>\n",
       "      <th>V21</th>\n",
       "      <th>V22</th>\n",
       "      <th>V23</th>\n",
       "      <th>V24</th>\n",
       "      <th>V25</th>\n",
       "      <th>V26</th>\n",
       "      <th>V27</th>\n",
       "      <th>V28</th>\n",
       "      <th>Amount</th>\n",
       "      <th>Class</th>\n",
       "    </tr>\n",
       "  </thead>\n",
       "  <tbody>\n",
       "    <tr>\n",
       "      <th>0</th>\n",
       "      <td>0.0</td>\n",
       "      <td>-1.359807</td>\n",
       "      <td>-0.072781</td>\n",
       "      <td>2.536347</td>\n",
       "      <td>1.378155</td>\n",
       "      <td>-0.338321</td>\n",
       "      <td>0.462388</td>\n",
       "      <td>0.239599</td>\n",
       "      <td>0.098698</td>\n",
       "      <td>0.363787</td>\n",
       "      <td>...</td>\n",
       "      <td>-0.018307</td>\n",
       "      <td>0.277838</td>\n",
       "      <td>-0.110474</td>\n",
       "      <td>0.066928</td>\n",
       "      <td>0.128539</td>\n",
       "      <td>-0.189115</td>\n",
       "      <td>0.133558</td>\n",
       "      <td>-0.021053</td>\n",
       "      <td>149.62</td>\n",
       "      <td>0</td>\n",
       "    </tr>\n",
       "    <tr>\n",
       "      <th>1</th>\n",
       "      <td>0.0</td>\n",
       "      <td>1.191857</td>\n",
       "      <td>0.266151</td>\n",
       "      <td>0.166480</td>\n",
       "      <td>0.448154</td>\n",
       "      <td>0.060018</td>\n",
       "      <td>-0.082361</td>\n",
       "      <td>-0.078803</td>\n",
       "      <td>0.085102</td>\n",
       "      <td>-0.255425</td>\n",
       "      <td>...</td>\n",
       "      <td>-0.225775</td>\n",
       "      <td>-0.638672</td>\n",
       "      <td>0.101288</td>\n",
       "      <td>-0.339846</td>\n",
       "      <td>0.167170</td>\n",
       "      <td>0.125895</td>\n",
       "      <td>-0.008983</td>\n",
       "      <td>0.014724</td>\n",
       "      <td>2.69</td>\n",
       "      <td>0</td>\n",
       "    </tr>\n",
       "    <tr>\n",
       "      <th>2</th>\n",
       "      <td>1.0</td>\n",
       "      <td>-1.358354</td>\n",
       "      <td>-1.340163</td>\n",
       "      <td>1.773209</td>\n",
       "      <td>0.379780</td>\n",
       "      <td>-0.503198</td>\n",
       "      <td>1.800499</td>\n",
       "      <td>0.791461</td>\n",
       "      <td>0.247676</td>\n",
       "      <td>-1.514654</td>\n",
       "      <td>...</td>\n",
       "      <td>0.247998</td>\n",
       "      <td>0.771679</td>\n",
       "      <td>0.909412</td>\n",
       "      <td>-0.689281</td>\n",
       "      <td>-0.327642</td>\n",
       "      <td>-0.139097</td>\n",
       "      <td>-0.055353</td>\n",
       "      <td>-0.059752</td>\n",
       "      <td>378.66</td>\n",
       "      <td>0</td>\n",
       "    </tr>\n",
       "    <tr>\n",
       "      <th>3</th>\n",
       "      <td>1.0</td>\n",
       "      <td>-0.966272</td>\n",
       "      <td>-0.185226</td>\n",
       "      <td>1.792993</td>\n",
       "      <td>-0.863291</td>\n",
       "      <td>-0.010309</td>\n",
       "      <td>1.247203</td>\n",
       "      <td>0.237609</td>\n",
       "      <td>0.377436</td>\n",
       "      <td>-1.387024</td>\n",
       "      <td>...</td>\n",
       "      <td>-0.108300</td>\n",
       "      <td>0.005274</td>\n",
       "      <td>-0.190321</td>\n",
       "      <td>-1.175575</td>\n",
       "      <td>0.647376</td>\n",
       "      <td>-0.221929</td>\n",
       "      <td>0.062723</td>\n",
       "      <td>0.061458</td>\n",
       "      <td>123.50</td>\n",
       "      <td>0</td>\n",
       "    </tr>\n",
       "    <tr>\n",
       "      <th>4</th>\n",
       "      <td>2.0</td>\n",
       "      <td>-1.158233</td>\n",
       "      <td>0.877737</td>\n",
       "      <td>1.548718</td>\n",
       "      <td>0.403034</td>\n",
       "      <td>-0.407193</td>\n",
       "      <td>0.095921</td>\n",
       "      <td>0.592941</td>\n",
       "      <td>-0.270533</td>\n",
       "      <td>0.817739</td>\n",
       "      <td>...</td>\n",
       "      <td>-0.009431</td>\n",
       "      <td>0.798278</td>\n",
       "      <td>-0.137458</td>\n",
       "      <td>0.141267</td>\n",
       "      <td>-0.206010</td>\n",
       "      <td>0.502292</td>\n",
       "      <td>0.219422</td>\n",
       "      <td>0.215153</td>\n",
       "      <td>69.99</td>\n",
       "      <td>0</td>\n",
       "    </tr>\n",
       "  </tbody>\n",
       "</table>\n",
       "<p>5 rows × 31 columns</p>\n",
       "</div>"
      ],
      "text/plain": [
       "   Time        V1        V2        V3        V4        V5        V6        V7  \\\n",
       "0   0.0 -1.359807 -0.072781  2.536347  1.378155 -0.338321  0.462388  0.239599   \n",
       "1   0.0  1.191857  0.266151  0.166480  0.448154  0.060018 -0.082361 -0.078803   \n",
       "2   1.0 -1.358354 -1.340163  1.773209  0.379780 -0.503198  1.800499  0.791461   \n",
       "3   1.0 -0.966272 -0.185226  1.792993 -0.863291 -0.010309  1.247203  0.237609   \n",
       "4   2.0 -1.158233  0.877737  1.548718  0.403034 -0.407193  0.095921  0.592941   \n",
       "\n",
       "         V8        V9  ...       V21       V22       V23       V24       V25  \\\n",
       "0  0.098698  0.363787  ... -0.018307  0.277838 -0.110474  0.066928  0.128539   \n",
       "1  0.085102 -0.255425  ... -0.225775 -0.638672  0.101288 -0.339846  0.167170   \n",
       "2  0.247676 -1.514654  ...  0.247998  0.771679  0.909412 -0.689281 -0.327642   \n",
       "3  0.377436 -1.387024  ... -0.108300  0.005274 -0.190321 -1.175575  0.647376   \n",
       "4 -0.270533  0.817739  ... -0.009431  0.798278 -0.137458  0.141267 -0.206010   \n",
       "\n",
       "        V26       V27       V28  Amount  Class  \n",
       "0 -0.189115  0.133558 -0.021053  149.62      0  \n",
       "1  0.125895 -0.008983  0.014724    2.69      0  \n",
       "2 -0.139097 -0.055353 -0.059752  378.66      0  \n",
       "3 -0.221929  0.062723  0.061458  123.50      0  \n",
       "4  0.502292  0.219422  0.215153   69.99      0  \n",
       "\n",
       "[5 rows x 31 columns]"
      ]
     },
     "execution_count": 23,
     "metadata": {},
     "output_type": "execute_result"
    }
   ],
   "source": [
    "data.head()"
   ]
  },
  {
   "cell_type": "code",
   "execution_count": 24,
   "id": "972000bf",
   "metadata": {},
   "outputs": [
    {
     "data": {
      "text/plain": [
       "(284807, 31)"
      ]
     },
     "execution_count": 24,
     "metadata": {},
     "output_type": "execute_result"
    }
   ],
   "source": [
    "data.shape"
   ]
  },
  {
   "cell_type": "code",
   "execution_count": 25,
   "id": "632f1521",
   "metadata": {},
   "outputs": [
    {
     "data": {
      "text/plain": [
       "0    284315\n",
       "1       492\n",
       "Name: Class, dtype: int64"
      ]
     },
     "execution_count": 25,
     "metadata": {},
     "output_type": "execute_result"
    }
   ],
   "source": [
    "(data[\"Class\"].value_counts(()))"
   ]
  },
  {
   "cell_type": "markdown",
   "id": "79c35c7b",
   "metadata": {},
   "source": [
    "# Porcentage of Fraudes\n",
    "The following lines of code calculate the number of Fraud and Valid Transactions.\n",
    "Ratio_Fraud_percentge = 0.1727% reflects that the number of frauds is very low."
   ]
  },
  {
   "cell_type": "code",
   "execution_count": 26,
   "id": "15398758",
   "metadata": {},
   "outputs": [
    {
     "name": "stdout",
     "output_type": "stream",
     "text": [
      "0.1727485630620034\n"
     ]
    },
    {
     "data": {
      "text/plain": [
       "<AxesSubplot:xlabel='Class', ylabel='count'>"
      ]
     },
     "execution_count": 26,
     "metadata": {},
     "output_type": "execute_result"
    },
    {
     "data": {
      "image/png": "[encoded data removed]",
      "text/plain": [
       "<Figure size 432x288 with 1 Axes>"
      ]
     },
     "metadata": {
      "needs_background": "light"
     },
     "output_type": "display_data"
    }
   ],
   "source": [
    "Valid = len(data[data[\"Class\"] == 0])\n",
    "Fraud = len(data[data[\"Class\"] == 1])\n",
    "Ratio_Fraud_percentage =  (Fraud / (Fraud + Valid)) * 100\n",
    "print(Ratio_Fraud_percentage)\n",
    "colors = [\"#0101DF\", \"#DF0101\"]\n",
    "sns.countplot('Class', data=data, palette=colors)"
   ]
  },
  {
   "cell_type": "markdown",
   "id": "3aaa14e2",
   "metadata": {},
   "source": [
    "# Paritial porcentage of Fraude\n",
    "Next we will calculate a fraction of the total data [10% data].\n",
    "We want to check that the Ratio_Fraud_percentage is not modified."
   ]
  },
  {
   "cell_type": "code",
   "execution_count": 27,
   "id": "8a683aef",
   "metadata": {},
   "outputs": [
    {
     "name": "stdout",
     "output_type": "stream",
     "text": [
      "(28481, 31)\n"
     ]
    }
   ],
   "source": [
    "fraction = 0.1\n",
    "data = data.sample(frac = fraction, random_state = 1)\n",
    "print(data.shape)\n",
    "Valid = len(data[data[\"Class\"] == 0])\n",
    "Fraud = len(data[data[\"Class\"] == 1])\n",
    "Ratio_Fraud_percentage =  (Fraud / (Fraud + Valid)) * 100 \n",
    "#In the tutorial there is a mistake here!. Fraud is not included in the denominator!"
   ]
  },
  {
   "cell_type": "code",
   "execution_count": 28,
   "id": "628f9970",
   "metadata": {},
   "outputs": [
    {
     "name": "stdout",
     "output_type": "stream",
     "text": [
      "0.17204452090867595\n"
     ]
    },
    {
     "data": {
      "text/plain": [
       "<AxesSubplot:xlabel='Class', ylabel='count'>"
      ]
     },
     "execution_count": 28,
     "metadata": {},
     "output_type": "execute_result"
    },
    {
     "data": {
      "image/png": "[encoded data removed]",
      "text/plain": [
       "<Figure size 432x288 with 1 Axes>"
      ]
     },
     "metadata": {
      "needs_background": "light"
     },
     "output_type": "display_data"
    }
   ],
   "source": [
    "print(Ratio_Fraud_percentage)\n",
    "#Ratio_Fraud_percentage = 0.1720 ---> minimum variation.\n",
    "colors = [\"#0101DF\", \"#DF0101\"]\n",
    "sns.countplot('Class', data=data, palette=colors)"
   ]
  },
  {
   "cell_type": "markdown",
   "id": "30defe68",
   "metadata": {},
   "source": [
    "# Correlation matrix\n",
    "Now, we want to see the correlation between the representative features of the data fraction.\n",
    "To see the correlation, we will use a colormap using seaborn where 1 means entirely correlated (see diagonal)."
   ]
  },
  {
   "cell_type": "code",
   "execution_count": 29,
   "id": "fe975fd1",
   "metadata": {},
   "outputs": [
    {
     "data": {
      "image/png": "[encoded data removed]",
      "text/plain": [
       "<Figure size 864x648 with 2 Axes>"
      ]
     },
     "metadata": {
      "needs_background": "light"
     },
     "output_type": "display_data"
    }
   ],
   "source": [
    "correlation_matrix = data.corr()\n",
    "fig = plt.figure(figsize = (12, 9))\n",
    "sns.heatmap(correlation_matrix, vmax = 0.9, square = True)\n",
    "plt.show()"
   ]
  },
  {
   "cell_type": "markdown",
   "id": "70766c0e",
   "metadata": {},
   "source": [
    "# Splitting\n",
    "Next we will split the values.\n",
    "For this purpose, we will create a variable X that contains all the data except the column \"Class\" and we will create another variable Y that contains ONLY the data of the column \"Class\". In this way we can know how good the algorithm used is. Essentially, we will operate on X and then we will compare with the values of Y, which is the pure reality."
   ]
  },
  {
   "cell_type": "code",
   "execution_count": 32,
   "id": "8dd09d09",
   "metadata": {},
   "outputs": [
    {
     "name": "stdout",
     "output_type": "stream",
     "text": [
      "(28481, 30)\n",
      "(28481,)\n"
     ]
    }
   ],
   "source": [
    "columns = data.columns.tolist()\n",
    "target = \"Class\"\n",
    "columns = [c for c in columns if c not in target]\n",
    "X = data[columns]\n",
    "Y = data[target]\n",
    "print(X.shape)\n",
    "print(Y.shape)"
   ]
  },
  {
   "cell_type": "markdown",
   "id": "fc520cf1",
   "metadata": {},
   "source": [
    "# Classical Machine Learning algorithms.\n",
    "Now, we will use two classic machine learning algorithms: IsolationForest and the LocalOutlierFactor. In the case of IsolationForest we need the number of rows of all columns except Class, the Ratio_Fraud = Ratio_Fraud_percentage / 100 and the random_state = 1. On the other hand, in the Local Outlier Factor, we need the number of neighbors to calculate the local deviation ( ) and the Ratio_Fraud.\n"
   ]
  },
  {
   "cell_type": "code",
   "execution_count": 18,
   "id": "aefa5b21",
   "metadata": {},
   "outputs": [],
   "source": [
    "from sklearn.metrics import classification_report, accuracy_score\n",
    "from sklearn.ensemble import IsolationForest\n",
    "from sklearn.neighbors import LocalOutlierFactor\n",
    "state = 1\n",
    "Ratio_Fraud_percentage /=100\n",
    "classifiers = {\n",
    "    \"Isolation Forest\": IsolationForest(max_samples = len(X), \n",
    "                                        contamination = Ratio_Fraud_percentage, \n",
    "                                        random_state = state),\n",
    "    \"Local Outlier Factor\": LocalOutlierFactor(n_neighbors = 20,\n",
    "                                               contamination = Ratio_Fraud_percentage)\n",
    "              }"
   ]
  },
  {
   "cell_type": "markdown",
   "id": "a1f9ac7e",
   "metadata": {},
   "source": [
    "# Corriendo algoritmos\n",
    "Next we will compare the results of the two algorithms. Before calculating the fraud error, what we do is transform 1-> 0 (no fraud) and -1-> 1 (fraud)."
   ]
  },
  {
   "cell_type": "code",
   "execution_count": 19,
   "id": "efebb2d7",
   "metadata": {},
   "outputs": [
    {
     "name": "stdout",
     "output_type": "stream",
     "text": [
      "Isolation Forest: 72\n",
      "0.997471998876444\n",
      "              precision    recall  f1-score   support\n",
      "\n",
      "           0       1.00      1.00      1.00     28432\n",
      "           1       0.27      0.27      0.27        49\n",
      "\n",
      "    accuracy                           1.00     28481\n",
      "   macro avg       0.63      0.63      0.63     28481\n",
      "weighted avg       1.00      1.00      1.00     28481\n",
      "\n",
      "Local Outlier Factor: 96\n",
      "0.9966293318352586\n",
      "              precision    recall  f1-score   support\n",
      "\n",
      "           0       1.00      1.00      1.00     28432\n",
      "           1       0.02      0.02      0.02        49\n",
      "\n",
      "    accuracy                           1.00     28481\n",
      "   macro avg       0.51      0.51      0.51     28481\n",
      "weighted avg       1.00      1.00      1.00     28481\n",
      "\n"
     ]
    }
   ],
   "source": [
    "for i, (clf_name, clf) in enumerate(classifiers.items()):\n",
    "    if clf_name == \"Local Outlier Factor\":\n",
    "        y_pred = clf.fit_predict(X)\n",
    "        scores_pred = clf.negative_outlier_factor_\n",
    "    else:\n",
    "        clf.fit(X)\n",
    "        scores_pred = clf.decision_function(X)\n",
    "        y_pred = clf.predict(X)\n",
    "        \n",
    "    y_pred[y_pred == 1] = 0\n",
    "    y_pred[y_pred == -1] = 1\n",
    "    n_errors = (y_pred != Y).sum()\n",
    "    print(\"{}: {}\".format(clf_name, n_errors))\n",
    "    print(accuracy_score(Y, y_pred))\n",
    "    print(classification_report(Y, y_pred))"
   ]
  },
  {
   "cell_type": "markdown",
   "id": "1b39889e",
   "metadata": {},
   "source": [
    "# Conclusions-Conclusiones\n",
    "\n",
    "We have used the Local Outlier Factor algorithm obtaining an overall success of 99.66%.\n",
    "HOWEVER, this is only due to the number of initials 0's. That is, we have not counted the number of 1's well in the algorithm, since we have not given enough sample of initial 1's. Something similar happens with Isolation Forest (99.7% correct) where the error when counting 1's is approximately 70%. The alternatives that occur to me to improve is to take a larger fraction of data (computationally expensive) or to alter the number of initial 1's. That is, create a balanced .csv to efficiently train our algorithm. We are going to try to do this in Fraud_Detection_CML_balanced.\n",
    "\n",
    "\n",
    "\n",
    "Hemos usado  el Local Outlier Factor para obtener un éxito del 99.66% en el total de los datos.\n",
    "SIN EMBARGO, esto únicamente se debe al número de 0's iniciales. Es decir, no hemos contado nada bien el número de 1's en el algoritmo, ya que no le hemos dado suficiente sampling de 1's iniciales. Algo similar ocurre con Isolation Forest (99.7% acierto) donde el error a la hora de contar 1's es roughly del 70%. Las alternativas que se me ocurren para mejorarlo es coger una fracción de datos mayor (costoso computacionalmente) o alterar inicialmente el número de 1's. Es decir, crear un .csv que sea balanced para entrenar de una manera eficiente nuestro algoritmo. As a matter of fact, esto lo vamos a intentar hacer en Fraud_Detection_CML_balanced."
   ]
  }
 ],
 "metadata": {
  "kernelspec": {
   "display_name": "Python 3",
   "language": "python",
   "name": "python3"
  },
  "language_info": {
   "codemirror_mode": {
    "name": "ipython",
    "version": 3
   },
   "file_extension": ".py",
   "mimetype": "text/x-python",
   "name": "python",
   "nbconvert_exporter": "python",
   "pygments_lexer": "ipython3",
   "version": "3.8.8"
  }
 },
 "nbformat": 4,
 "nbformat_minor": 5
}
